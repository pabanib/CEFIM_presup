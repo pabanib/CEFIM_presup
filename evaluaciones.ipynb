{
 "cells": [
  {
   "cell_type": "markdown",
   "id": "1fc3249c",
   "metadata": {},
   "source": [
    "# Evaluación de respuesta"
   ]
  },
  {
   "cell_type": "code",
   "execution_count": 2,
   "id": "06510491",
   "metadata": {},
   "outputs": [],
   "source": [
    "import pandas as pd\n",
    "import sqlite3 as sql\n",
    "import json\n",
    "\n",
    "from IPython.display import Markdown, display"
   ]
  },
  {
   "cell_type": "code",
   "execution_count": 3,
   "id": "ef65d26c",
   "metadata": {},
   "outputs": [
    {
     "data": {
      "text/html": [
       "<div>\n",
       "<style scoped>\n",
       "    .dataframe tbody tr th:only-of-type {\n",
       "        vertical-align: middle;\n",
       "    }\n",
       "\n",
       "    .dataframe tbody tr th {\n",
       "        vertical-align: top;\n",
       "    }\n",
       "\n",
       "    .dataframe thead th {\n",
       "        text-align: right;\n",
       "    }\n",
       "</style>\n",
       "<table border=\"1\" class=\"dataframe\">\n",
       "  <thead>\n",
       "    <tr style=\"text-align: right;\">\n",
       "      <th></th>\n",
       "      <th>id</th>\n",
       "      <th>timestamp</th>\n",
       "      <th>pregunta</th>\n",
       "      <th>clasificacion_json</th>\n",
       "      <th>dato_recuperado</th>\n",
       "      <th>respuesta_final</th>\n",
       "    </tr>\n",
       "  </thead>\n",
       "  <tbody>\n",
       "    <tr>\n",
       "      <th>0</th>\n",
       "      <td>1</td>\n",
       "      <td>2025-07-28T18:27:22.818892</td>\n",
       "      <td>Estamos ante el pico más alto en la recaudación?</td>\n",
       "      <td>{\"intencion\": \"estadistica\", \"periodo\": \"Ultim...</td>\n",
       "      <td>{'último periodo': detapart\\nRecursos Corrient...</td>\n",
       "      <td>No se puede afirmar categóricamente que se est...</td>\n",
       "    </tr>\n",
       "    <tr>\n",
       "      <th>1</th>\n",
       "      <td>2</td>\n",
       "      <td>2025-07-28T18:29:12.995109</td>\n",
       "      <td>Me puedes decir cual es la recaudación en ingr...</td>\n",
       "      <td>{\"intencion\": \"estadistica\", \"periodo\": \"Ultim...</td>\n",
       "      <td>{'último periodo': detapart\\nRecursos Corrient...</td>\n",
       "      <td>La recaudación bruta en Ingresos Brutos hasta ...</td>\n",
       "    </tr>\n",
       "    <tr>\n",
       "      <th>2</th>\n",
       "      <td>3</td>\n",
       "      <td>2025-07-28T18:31:44.224299</td>\n",
       "      <td>Me puedes decir cual es la recaudación en ingr...</td>\n",
       "      <td>{\"intencion\": \"estadistica\", \"periodo\": \"Ultim...</td>\n",
       "      <td>{'último periodo': detapart\\nRecursos Corrient...</td>\n",
       "      <td>Error al generar la respuesta de la IA: 429 Yo...</td>\n",
       "    </tr>\n",
       "    <tr>\n",
       "      <th>3</th>\n",
       "      <td>4</td>\n",
       "      <td>2025-07-28T18:31:44.927741</td>\n",
       "      <td>En el mes de marzo de este año tenemos una mej...</td>\n",
       "      <td>{\"intencion\": \"estadistica\", \"periodo\": \"Espec...</td>\n",
       "      <td>{'último periodo': detapart\\nRecursos Corrient...</td>\n",
       "      <td>Error al generar la respuesta de la IA: 429 Yo...</td>\n",
       "    </tr>\n",
       "    <tr>\n",
       "      <th>4</th>\n",
       "      <td>5</td>\n",
       "      <td>2025-07-28T19:06:48.980482</td>\n",
       "      <td>Me puedes decir cual es la recaudación en ingr...</td>\n",
       "      <td>{\"intencion\": \"estadistica\", \"periodo\": \"Ultim...</td>\n",
       "      <td>{'último periodo': detapart\\nRecursos Corrient...</td>\n",
       "      <td>Error al generar la respuesta de la IA: 429 Yo...</td>\n",
       "    </tr>\n",
       "  </tbody>\n",
       "</table>\n",
       "</div>"
      ],
      "text/plain": [
       "   id                   timestamp  \\\n",
       "0   1  2025-07-28T18:27:22.818892   \n",
       "1   2  2025-07-28T18:29:12.995109   \n",
       "2   3  2025-07-28T18:31:44.224299   \n",
       "3   4  2025-07-28T18:31:44.927741   \n",
       "4   5  2025-07-28T19:06:48.980482   \n",
       "\n",
       "                                            pregunta  \\\n",
       "0   Estamos ante el pico más alto en la recaudación?   \n",
       "1  Me puedes decir cual es la recaudación en ingr...   \n",
       "2  Me puedes decir cual es la recaudación en ingr...   \n",
       "3  En el mes de marzo de este año tenemos una mej...   \n",
       "4  Me puedes decir cual es la recaudación en ingr...   \n",
       "\n",
       "                                  clasificacion_json  \\\n",
       "0  {\"intencion\": \"estadistica\", \"periodo\": \"Ultim...   \n",
       "1  {\"intencion\": \"estadistica\", \"periodo\": \"Ultim...   \n",
       "2  {\"intencion\": \"estadistica\", \"periodo\": \"Ultim...   \n",
       "3  {\"intencion\": \"estadistica\", \"periodo\": \"Espec...   \n",
       "4  {\"intencion\": \"estadistica\", \"periodo\": \"Ultim...   \n",
       "\n",
       "                                     dato_recuperado  \\\n",
       "0  {'último periodo': detapart\\nRecursos Corrient...   \n",
       "1  {'último periodo': detapart\\nRecursos Corrient...   \n",
       "2  {'último periodo': detapart\\nRecursos Corrient...   \n",
       "3  {'último periodo': detapart\\nRecursos Corrient...   \n",
       "4  {'último periodo': detapart\\nRecursos Corrient...   \n",
       "\n",
       "                                     respuesta_final  \n",
       "0  No se puede afirmar categóricamente que se est...  \n",
       "1  La recaudación bruta en Ingresos Brutos hasta ...  \n",
       "2  Error al generar la respuesta de la IA: 429 Yo...  \n",
       "3  Error al generar la respuesta de la IA: 429 Yo...  \n",
       "4  Error al generar la respuesta de la IA: 429 Yo...  "
      ]
     },
     "execution_count": 3,
     "metadata": {},
     "output_type": "execute_result"
    }
   ],
   "source": [
    "# Conexión a la base de datos log_publico.db\n",
    "conn = sql.connect('log_publico.db')\n",
    "\n",
    "# Ejemplo: leer todas las tablas disponibles\n",
    "query = \"SELECT * FROM interacciones;\"\n",
    "df = pd.read_sql(query, conn)\n",
    "df.head()"
   ]
  },
  {
   "cell_type": "code",
   "execution_count": 4,
   "id": "3f83f24d",
   "metadata": {},
   "outputs": [],
   "source": [
    "cursor = conn.cursor()\n",
    "cursor.execute(\"\"\"\n",
    "    CREATE TABLE IF NOT EXISTS evaluaciones (\n",
    "        id INTEGER PRIMARY KEY ,\n",
    "        intencion_pred TEXT,\n",
    "        periodo_pred TEXT,\n",
    "        estadistica_pred TEXT,\n",
    "        intencion_real TEXT,\n",
    "        periodo_real TEXT,\n",
    "        estadistica_real TEXT,\n",
    "        veracidad INTEGER,\n",
    "        entendible INTEGER,\n",
    "        profundidad INTEGER,\n",
    "        CEFIM INTEGER,\n",
    "        coherencia INTEGER,\n",
    "        dato_falso INTEGER               \n",
    "    )\n",
    "    \"\"\")\n",
    "conn.commit()\n",
    "conn.close()\n"
   ]
  },
  {
   "cell_type": "code",
   "execution_count": 5,
   "id": "4a2a284f",
   "metadata": {},
   "outputs": [],
   "source": [
    "lista = []\n",
    "\n",
    "for i in range(len(df)):\n",
    "    dicc = json.loads(df.iloc[i]['clasificacion_json'])\n",
    "    lista.append(dicc)\n",
    "    "
   ]
  },
  {
   "cell_type": "code",
   "execution_count": 6,
   "id": "884470e9",
   "metadata": {},
   "outputs": [
    {
     "data": {
      "text/html": [
       "<div>\n",
       "<style scoped>\n",
       "    .dataframe tbody tr th:only-of-type {\n",
       "        vertical-align: middle;\n",
       "    }\n",
       "\n",
       "    .dataframe tbody tr th {\n",
       "        vertical-align: top;\n",
       "    }\n",
       "\n",
       "    .dataframe thead th {\n",
       "        text-align: right;\n",
       "    }\n",
       "</style>\n",
       "<table border=\"1\" class=\"dataframe\">\n",
       "  <thead>\n",
       "    <tr style=\"text-align: right;\">\n",
       "      <th></th>\n",
       "      <th>id</th>\n",
       "      <th>pregunta</th>\n",
       "      <th>respuesta_final</th>\n",
       "      <th>intencion</th>\n",
       "      <th>periodo</th>\n",
       "      <th>estadistica</th>\n",
       "    </tr>\n",
       "  </thead>\n",
       "  <tbody>\n",
       "    <tr>\n",
       "      <th>0</th>\n",
       "      <td>1</td>\n",
       "      <td>Estamos ante el pico más alto en la recaudación?</td>\n",
       "      <td>No se puede afirmar categóricamente que se est...</td>\n",
       "      <td>estadistica</td>\n",
       "      <td>Ultimo</td>\n",
       "      <td>rec_actual</td>\n",
       "    </tr>\n",
       "    <tr>\n",
       "      <th>1</th>\n",
       "      <td>2</td>\n",
       "      <td>Me puedes decir cual es la recaudación en ingr...</td>\n",
       "      <td>La recaudación bruta en Ingresos Brutos hasta ...</td>\n",
       "      <td>estadistica</td>\n",
       "      <td>Ultimo</td>\n",
       "      <td>rec_actual</td>\n",
       "    </tr>\n",
       "    <tr>\n",
       "      <th>2</th>\n",
       "      <td>3</td>\n",
       "      <td>Me puedes decir cual es la recaudación en ingr...</td>\n",
       "      <td>Error al generar la respuesta de la IA: 429 Yo...</td>\n",
       "      <td>estadistica</td>\n",
       "      <td>Ultimo</td>\n",
       "      <td>rec_actual</td>\n",
       "    </tr>\n",
       "    <tr>\n",
       "      <th>3</th>\n",
       "      <td>4</td>\n",
       "      <td>En el mes de marzo de este año tenemos una mej...</td>\n",
       "      <td>Error al generar la respuesta de la IA: 429 Yo...</td>\n",
       "      <td>estadistica</td>\n",
       "      <td>Específico</td>\n",
       "      <td>rec_actual</td>\n",
       "    </tr>\n",
       "    <tr>\n",
       "      <th>4</th>\n",
       "      <td>5</td>\n",
       "      <td>Me puedes decir cual es la recaudación en ingr...</td>\n",
       "      <td>Error al generar la respuesta de la IA: 429 Yo...</td>\n",
       "      <td>estadistica</td>\n",
       "      <td>Ultimo</td>\n",
       "      <td>rec_actual</td>\n",
       "    </tr>\n",
       "    <tr>\n",
       "      <th>...</th>\n",
       "      <td>...</td>\n",
       "      <td>...</td>\n",
       "      <td>...</td>\n",
       "      <td>...</td>\n",
       "      <td>...</td>\n",
       "      <td>...</td>\n",
       "    </tr>\n",
       "    <tr>\n",
       "      <th>107</th>\n",
       "      <td>108</td>\n",
       "      <td>¿Se está trabajando en un plan de ordenamiento...</td>\n",
       "      <td>Error al generar la respuesta de la IA: 429 Yo...</td>\n",
       "      <td>estadistica</td>\n",
       "      <td>Ultimo</td>\n",
       "      <td>rec_actual</td>\n",
       "    </tr>\n",
       "    <tr>\n",
       "      <th>108</th>\n",
       "      <td>109</td>\n",
       "      <td>¿Qué se está haciendo para fomentar la formali...</td>\n",
       "      <td>Error al generar la respuesta de la IA: 429 Yo...</td>\n",
       "      <td>estadistica</td>\n",
       "      <td>Histórico</td>\n",
       "      <td>evolución</td>\n",
       "    </tr>\n",
       "    <tr>\n",
       "      <th>109</th>\n",
       "      <td>110</td>\n",
       "      <td>¿Cómo se va a garantizar la transparencia en l...</td>\n",
       "      <td>Error al generar la respuesta de la IA: 429 Yo...</td>\n",
       "      <td>estadistica</td>\n",
       "      <td>Ultimo</td>\n",
       "      <td>variacion</td>\n",
       "    </tr>\n",
       "    <tr>\n",
       "      <th>110</th>\n",
       "      <td>111</td>\n",
       "      <td>¿Se ha pensado en crear un fondo específico co...</td>\n",
       "      <td>Claro, con gusto analizaré la pregunta del usu...</td>\n",
       "      <td>estadistica</td>\n",
       "      <td>Histórico</td>\n",
       "      <td>evolución</td>\n",
       "    </tr>\n",
       "    <tr>\n",
       "      <th>111</th>\n",
       "      <td>112</td>\n",
       "      <td>que significa esto?</td>\n",
       "      <td>De acuerdo al contexto proporcionado por el CE...</td>\n",
       "      <td>estadistica</td>\n",
       "      <td>Histórico</td>\n",
       "      <td>evolución</td>\n",
       "    </tr>\n",
       "  </tbody>\n",
       "</table>\n",
       "<p>112 rows × 6 columns</p>\n",
       "</div>"
      ],
      "text/plain": [
       "      id                                           pregunta  \\\n",
       "0      1   Estamos ante el pico más alto en la recaudación?   \n",
       "1      2  Me puedes decir cual es la recaudación en ingr...   \n",
       "2      3  Me puedes decir cual es la recaudación en ingr...   \n",
       "3      4  En el mes de marzo de este año tenemos una mej...   \n",
       "4      5  Me puedes decir cual es la recaudación en ingr...   \n",
       "..   ...                                                ...   \n",
       "107  108  ¿Se está trabajando en un plan de ordenamiento...   \n",
       "108  109  ¿Qué se está haciendo para fomentar la formali...   \n",
       "109  110  ¿Cómo se va a garantizar la transparencia en l...   \n",
       "110  111  ¿Se ha pensado en crear un fondo específico co...   \n",
       "111  112                               que significa esto?    \n",
       "\n",
       "                                       respuesta_final    intencion  \\\n",
       "0    No se puede afirmar categóricamente que se est...  estadistica   \n",
       "1    La recaudación bruta en Ingresos Brutos hasta ...  estadistica   \n",
       "2    Error al generar la respuesta de la IA: 429 Yo...  estadistica   \n",
       "3    Error al generar la respuesta de la IA: 429 Yo...  estadistica   \n",
       "4    Error al generar la respuesta de la IA: 429 Yo...  estadistica   \n",
       "..                                                 ...          ...   \n",
       "107  Error al generar la respuesta de la IA: 429 Yo...  estadistica   \n",
       "108  Error al generar la respuesta de la IA: 429 Yo...  estadistica   \n",
       "109  Error al generar la respuesta de la IA: 429 Yo...  estadistica   \n",
       "110  Claro, con gusto analizaré la pregunta del usu...  estadistica   \n",
       "111  De acuerdo al contexto proporcionado por el CE...  estadistica   \n",
       "\n",
       "        periodo estadistica  \n",
       "0        Ultimo  rec_actual  \n",
       "1        Ultimo  rec_actual  \n",
       "2        Ultimo  rec_actual  \n",
       "3    Específico  rec_actual  \n",
       "4        Ultimo  rec_actual  \n",
       "..          ...         ...  \n",
       "107      Ultimo  rec_actual  \n",
       "108   Histórico   evolución  \n",
       "109      Ultimo   variacion  \n",
       "110   Histórico   evolución  \n",
       "111   Histórico   evolución  \n",
       "\n",
       "[112 rows x 6 columns]"
      ]
     },
     "execution_count": 6,
     "metadata": {},
     "output_type": "execute_result"
    }
   ],
   "source": [
    "df2 = pd.concat([df[['id','pregunta', 'respuesta_final']],pd.DataFrame(lista)],axis = 1)\n",
    "df2"
   ]
  },
  {
   "cell_type": "code",
   "execution_count": 7,
   "id": "ba3425eb",
   "metadata": {},
   "outputs": [],
   "source": [
    "\n",
    "def mostrar_pregunta(numero):\n",
    "    numero -=1\n",
    "    d = df2.iloc[numero]\n",
    "\n",
    "    display(Markdown(d['pregunta']))\n",
    "    print(d['periodo'], d['estadistica'])\n",
    "    display(Markdown(d['respuesta_final']))   \n"
   ]
  },
  {
   "cell_type": "code",
   "execution_count": 8,
   "id": "a1c2f9dd",
   "metadata": {},
   "outputs": [
    {
     "data": {
      "text/markdown": [
       "Estamos ante el pico más alto en la recaudación?"
      ],
      "text/plain": [
       "<IPython.core.display.Markdown object>"
      ]
     },
     "metadata": {},
     "output_type": "display_data"
    },
    {
     "name": "stdout",
     "output_type": "stream",
     "text": [
      "Ultimo rec_actual\n"
     ]
    },
    {
     "data": {
      "text/markdown": [
       "No se puede afirmar categóricamente que se esté ante el pico más alto de recaudación considerando solo los datos provistos.  Si bien la recaudación de Recursos Corrientes en el último periodo (marzo 2025) muestra 335.791,51,  y el acumulado anual de 2025 alcanza los 1.019.139,26, estos valores deben ser contextualizados.\n",
       "\n",
       "El análisis de la media móvil a cinco años (2021-2025) revela una cierta volatilidad.  Mientras que 2022 y 2023 muestran valores superiores a los de 2025,  la media móvil suaviza las fluctuaciones.  Para determinar si se trata del pico más alto, se requiere una análisis más profundo considerando la tendencia histórica a largo plazo y factores externos que podrían estar incidiendo en la recaudación, información que no se proporciona en los datos.  Se recomienda consultar los informes completos del CEFIM para una conclusión más robusta.  Los datos actuales por sí solos no permiten confirmar o refutar la hipótesis de un pico máximo.\n"
      ],
      "text/plain": [
       "<IPython.core.display.Markdown object>"
      ]
     },
     "metadata": {},
     "output_type": "display_data"
    }
   ],
   "source": [
    "mostrar_pregunta(1)"
   ]
  },
  {
   "cell_type": "code",
   "execution_count": 9,
   "id": "0b1aa584",
   "metadata": {},
   "outputs": [
    {
     "data": {
      "text/html": [
       "<div>\n",
       "<style scoped>\n",
       "    .dataframe tbody tr th:only-of-type {\n",
       "        vertical-align: middle;\n",
       "    }\n",
       "\n",
       "    .dataframe tbody tr th {\n",
       "        vertical-align: top;\n",
       "    }\n",
       "\n",
       "    .dataframe thead th {\n",
       "        text-align: right;\n",
       "    }\n",
       "</style>\n",
       "<table border=\"1\" class=\"dataframe\">\n",
       "  <thead>\n",
       "    <tr style=\"text-align: right;\">\n",
       "      <th></th>\n",
       "      <th>id</th>\n",
       "      <th>pregunta</th>\n",
       "      <th>respuesta_final</th>\n",
       "      <th>intencion</th>\n",
       "      <th>periodo</th>\n",
       "      <th>estadistica</th>\n",
       "    </tr>\n",
       "  </thead>\n",
       "  <tbody>\n",
       "    <tr>\n",
       "      <th>0</th>\n",
       "      <td>1</td>\n",
       "      <td>Estamos ante el pico más alto en la recaudación?</td>\n",
       "      <td>No se puede afirmar categóricamente que se est...</td>\n",
       "      <td>estadistica</td>\n",
       "      <td>Ultimo</td>\n",
       "      <td>rec_actual</td>\n",
       "    </tr>\n",
       "    <tr>\n",
       "      <th>1</th>\n",
       "      <td>2</td>\n",
       "      <td>Me puedes decir cual es la recaudación en ingr...</td>\n",
       "      <td>La recaudación bruta en Ingresos Brutos hasta ...</td>\n",
       "      <td>estadistica</td>\n",
       "      <td>Ultimo</td>\n",
       "      <td>rec_actual</td>\n",
       "    </tr>\n",
       "    <tr>\n",
       "      <th>2</th>\n",
       "      <td>3</td>\n",
       "      <td>Me puedes decir cual es la recaudación en ingr...</td>\n",
       "      <td>Error al generar la respuesta de la IA: 429 Yo...</td>\n",
       "      <td>estadistica</td>\n",
       "      <td>Ultimo</td>\n",
       "      <td>rec_actual</td>\n",
       "    </tr>\n",
       "    <tr>\n",
       "      <th>3</th>\n",
       "      <td>4</td>\n",
       "      <td>En el mes de marzo de este año tenemos una mej...</td>\n",
       "      <td>Error al generar la respuesta de la IA: 429 Yo...</td>\n",
       "      <td>estadistica</td>\n",
       "      <td>Específico</td>\n",
       "      <td>rec_actual</td>\n",
       "    </tr>\n",
       "    <tr>\n",
       "      <th>4</th>\n",
       "      <td>5</td>\n",
       "      <td>Me puedes decir cual es la recaudación en ingr...</td>\n",
       "      <td>Error al generar la respuesta de la IA: 429 Yo...</td>\n",
       "      <td>estadistica</td>\n",
       "      <td>Ultimo</td>\n",
       "      <td>rec_actual</td>\n",
       "    </tr>\n",
       "    <tr>\n",
       "      <th>...</th>\n",
       "      <td>...</td>\n",
       "      <td>...</td>\n",
       "      <td>...</td>\n",
       "      <td>...</td>\n",
       "      <td>...</td>\n",
       "      <td>...</td>\n",
       "    </tr>\n",
       "    <tr>\n",
       "      <th>107</th>\n",
       "      <td>108</td>\n",
       "      <td>¿Se está trabajando en un plan de ordenamiento...</td>\n",
       "      <td>Error al generar la respuesta de la IA: 429 Yo...</td>\n",
       "      <td>estadistica</td>\n",
       "      <td>Ultimo</td>\n",
       "      <td>rec_actual</td>\n",
       "    </tr>\n",
       "    <tr>\n",
       "      <th>108</th>\n",
       "      <td>109</td>\n",
       "      <td>¿Qué se está haciendo para fomentar la formali...</td>\n",
       "      <td>Error al generar la respuesta de la IA: 429 Yo...</td>\n",
       "      <td>estadistica</td>\n",
       "      <td>Histórico</td>\n",
       "      <td>evolución</td>\n",
       "    </tr>\n",
       "    <tr>\n",
       "      <th>109</th>\n",
       "      <td>110</td>\n",
       "      <td>¿Cómo se va a garantizar la transparencia en l...</td>\n",
       "      <td>Error al generar la respuesta de la IA: 429 Yo...</td>\n",
       "      <td>estadistica</td>\n",
       "      <td>Ultimo</td>\n",
       "      <td>variacion</td>\n",
       "    </tr>\n",
       "    <tr>\n",
       "      <th>110</th>\n",
       "      <td>111</td>\n",
       "      <td>¿Se ha pensado en crear un fondo específico co...</td>\n",
       "      <td>Claro, con gusto analizaré la pregunta del usu...</td>\n",
       "      <td>estadistica</td>\n",
       "      <td>Histórico</td>\n",
       "      <td>evolución</td>\n",
       "    </tr>\n",
       "    <tr>\n",
       "      <th>111</th>\n",
       "      <td>112</td>\n",
       "      <td>que significa esto?</td>\n",
       "      <td>De acuerdo al contexto proporcionado por el CE...</td>\n",
       "      <td>estadistica</td>\n",
       "      <td>Histórico</td>\n",
       "      <td>evolución</td>\n",
       "    </tr>\n",
       "  </tbody>\n",
       "</table>\n",
       "<p>112 rows × 6 columns</p>\n",
       "</div>"
      ],
      "text/plain": [
       "      id                                           pregunta  \\\n",
       "0      1   Estamos ante el pico más alto en la recaudación?   \n",
       "1      2  Me puedes decir cual es la recaudación en ingr...   \n",
       "2      3  Me puedes decir cual es la recaudación en ingr...   \n",
       "3      4  En el mes de marzo de este año tenemos una mej...   \n",
       "4      5  Me puedes decir cual es la recaudación en ingr...   \n",
       "..   ...                                                ...   \n",
       "107  108  ¿Se está trabajando en un plan de ordenamiento...   \n",
       "108  109  ¿Qué se está haciendo para fomentar la formali...   \n",
       "109  110  ¿Cómo se va a garantizar la transparencia en l...   \n",
       "110  111  ¿Se ha pensado en crear un fondo específico co...   \n",
       "111  112                               que significa esto?    \n",
       "\n",
       "                                       respuesta_final    intencion  \\\n",
       "0    No se puede afirmar categóricamente que se est...  estadistica   \n",
       "1    La recaudación bruta en Ingresos Brutos hasta ...  estadistica   \n",
       "2    Error al generar la respuesta de la IA: 429 Yo...  estadistica   \n",
       "3    Error al generar la respuesta de la IA: 429 Yo...  estadistica   \n",
       "4    Error al generar la respuesta de la IA: 429 Yo...  estadistica   \n",
       "..                                                 ...          ...   \n",
       "107  Error al generar la respuesta de la IA: 429 Yo...  estadistica   \n",
       "108  Error al generar la respuesta de la IA: 429 Yo...  estadistica   \n",
       "109  Error al generar la respuesta de la IA: 429 Yo...  estadistica   \n",
       "110  Claro, con gusto analizaré la pregunta del usu...  estadistica   \n",
       "111  De acuerdo al contexto proporcionado por el CE...  estadistica   \n",
       "\n",
       "        periodo estadistica  \n",
       "0        Ultimo  rec_actual  \n",
       "1        Ultimo  rec_actual  \n",
       "2        Ultimo  rec_actual  \n",
       "3    Específico  rec_actual  \n",
       "4        Ultimo  rec_actual  \n",
       "..          ...         ...  \n",
       "107      Ultimo  rec_actual  \n",
       "108   Histórico   evolución  \n",
       "109      Ultimo   variacion  \n",
       "110   Histórico   evolución  \n",
       "111   Histórico   evolución  \n",
       "\n",
       "[112 rows x 6 columns]"
      ]
     },
     "execution_count": 9,
     "metadata": {},
     "output_type": "execute_result"
    }
   ],
   "source": [
    "df2"
   ]
  },
  {
   "cell_type": "code",
   "execution_count": 14,
   "id": "0485004c",
   "metadata": {},
   "outputs": [],
   "source": [
    "class evaluar_respuestas():\n",
    "    def __init__(self, numero_pregunta):\n",
    "        self.DB_FILE = \"log_publico.db\"\n",
    "        self.numero = numero_pregunta\n",
    "        self.intencion_real = ''\n",
    "        self.periodo_real = ''\n",
    "        self.estadistica_real = ''\n",
    "\n",
    "        self.veracidad = -1 #la respuesta es verdadera\n",
    "        self.entendible = -1 #la respuesta es fácil de entender\n",
    "        self.prfundidad = -1 #usa bien el contexto y explica bien\n",
    "        self.CEFIM = -1  #la respuesta está alineada con el CEFIM\n",
    "        self.coherencia = -1 # la respueta es coherente.\n",
    "        self.dato_falso = -1 #la respuesta proporciona dato falso.\n",
    "\n",
    "    def evaluar(self):\n",
    "        print(\"Evaluando pregunta número:\", self.numero)\n",
    "        mostrar_pregunta(self.numero)\n",
    "        self.intencion_real = input(\"Intención real: \")\n",
    "        self.periodo_real = input(\"Periodo real: \")\n",
    "        self.estadistica_real = input(\"Estadística real: \")\n",
    "\n",
    "        self.veracidad = int(input(\"¿La respuesta es verdadera? (1=Sí, 0=No): \"))\n",
    "        self.entendible = int(input(\"¿La respuesta es fácil de entender? (1=Sí, 0=No): \"))\n",
    "        self.prfundidad = int(input(\"¿Usa bien el contexto y explica bien? (4=Muy bien,3= bien, 1= mal, 0= Muy mal): \"))\n",
    "        self.CEFIM = int(input(\"¿Está alineada con el CEFIM? (4=Muy bien,3= bien,2=regular, 1= mal, 0= Muy mal): \"))\n",
    "        self.coherencia = int(input(\"¿La respuesta es coherente? (1=Sí, 0=No): \"))\n",
    "        self.dato_falso = int(input(\"¿Proporciona dato falso? (1=Sí, 0=No): \"))\n",
    "        self.comentario = input(\"Escribe un comentario: \")\n",
    "        \n",
    "        self.guardar_datos()\n",
    "        display(self.intencion_real, self.periodo_real, self.estadistica_real,\n",
    "               self.veracidad, self.entendible, self.prfundidad,\n",
    "               self.CEFIM, self.coherencia, self.dato_falso)\n",
    "        \n",
    "    def guardar_datos(self):\n",
    "        conn =  sql.connect('log_publico.db')\n",
    "        cursor = conn.cursor()\n",
    "        pregunta = df2.iloc[self.numero-1]\n",
    "\n",
    "        datos = (\n",
    "            self.numero,\n",
    "            pregunta['intencion'],\n",
    "            pregunta['periodo'],\n",
    "            pregunta['estadistica'],\n",
    "            self.intencion_real,\n",
    "            self.periodo_real,\n",
    "            self.estadistica_real,\n",
    "            self.veracidad,\n",
    "            self.entendible,\n",
    "            self.prfundidad,\n",
    "            self.CEFIM,\n",
    "            self.coherencia,\n",
    "            self.dato_falso,\n",
    "            self.comentario\n",
    "        )\n",
    "        cursor.execute(\"\"\"\n",
    "                       INSERT INTO evaluaciones (id, intencion_pred, periodo_pred, estadistica_pred, intencion_real, periodo_real, estadistica_real, veracidad, entendible, profundidad, CEFIM, coherencia, dato_falso, comentarios)\n",
    "                       VALUES (?, ?, ?, ?, ?,?,?,?,?,?,?,?,?,?)\n",
    "                       \n",
    "                       \"\"\",datos)\n",
    "        conn.commit()\n",
    "        conn.close()\n",
    "\n"
   ]
  },
  {
   "cell_type": "code",
   "execution_count": 17,
   "id": "8a289f1d",
   "metadata": {},
   "outputs": [
    {
     "name": "stdout",
     "output_type": "stream",
     "text": [
      "Evaluando pregunta número: 1\n"
     ]
    },
    {
     "data": {
      "text/markdown": [
       "Estamos ante el pico más alto en la recaudación?"
      ],
      "text/plain": [
       "<IPython.core.display.Markdown object>"
      ]
     },
     "metadata": {},
     "output_type": "display_data"
    },
    {
     "name": "stdout",
     "output_type": "stream",
     "text": [
      "Ultimo rec_actual\n"
     ]
    },
    {
     "data": {
      "text/markdown": [
       "No se puede afirmar categóricamente que se esté ante el pico más alto de recaudación considerando solo los datos provistos.  Si bien la recaudación de Recursos Corrientes en el último periodo (marzo 2025) muestra 335.791,51,  y el acumulado anual de 2025 alcanza los 1.019.139,26, estos valores deben ser contextualizados.\n",
       "\n",
       "El análisis de la media móvil a cinco años (2021-2025) revela una cierta volatilidad.  Mientras que 2022 y 2023 muestran valores superiores a los de 2025,  la media móvil suaviza las fluctuaciones.  Para determinar si se trata del pico más alto, se requiere una análisis más profundo considerando la tendencia histórica a largo plazo y factores externos que podrían estar incidiendo en la recaudación, información que no se proporciona en los datos.  Se recomienda consultar los informes completos del CEFIM para una conclusión más robusta.  Los datos actuales por sí solos no permiten confirmar o refutar la hipótesis de un pico máximo.\n"
      ],
      "text/plain": [
       "<IPython.core.display.Markdown object>"
      ]
     },
     "metadata": {},
     "output_type": "display_data"
    },
    {
     "ename": "OperationalError",
     "evalue": "database is locked",
     "output_type": "error",
     "traceback": [
      "\u001b[1;31m---------------------------------------------------------------------------\u001b[0m",
      "\u001b[1;31mOperationalError\u001b[0m                          Traceback (most recent call last)",
      "Cell \u001b[1;32mIn[17], line 2\u001b[0m\n\u001b[0;32m      1\u001b[0m preg \u001b[38;5;241m=\u001b[39m evaluar_respuestas(\u001b[38;5;241m1\u001b[39m)\n\u001b[1;32m----> 2\u001b[0m preg\u001b[38;5;241m.\u001b[39mevaluar()\n",
      "Cell \u001b[1;32mIn[14], line 31\u001b[0m, in \u001b[0;36mevaluar_respuestas.evaluar\u001b[1;34m(self)\u001b[0m\n\u001b[0;32m     28\u001b[0m \u001b[38;5;28mself\u001b[39m\u001b[38;5;241m.\u001b[39mdato_falso \u001b[38;5;241m=\u001b[39m \u001b[38;5;28mint\u001b[39m(\u001b[38;5;28minput\u001b[39m(\u001b[38;5;124m\"\u001b[39m\u001b[38;5;124m¿Proporciona dato falso? (1=Sí, 0=No): \u001b[39m\u001b[38;5;124m\"\u001b[39m))\n\u001b[0;32m     29\u001b[0m \u001b[38;5;28mself\u001b[39m\u001b[38;5;241m.\u001b[39mcomentario \u001b[38;5;241m=\u001b[39m \u001b[38;5;28minput\u001b[39m(\u001b[38;5;124m\"\u001b[39m\u001b[38;5;124mEscribe un comentario: \u001b[39m\u001b[38;5;124m\"\u001b[39m)\n\u001b[1;32m---> 31\u001b[0m \u001b[38;5;28mself\u001b[39m\u001b[38;5;241m.\u001b[39mguardar_datos()\n\u001b[0;32m     32\u001b[0m display(\u001b[38;5;28mself\u001b[39m\u001b[38;5;241m.\u001b[39mintencion_real, \u001b[38;5;28mself\u001b[39m\u001b[38;5;241m.\u001b[39mperiodo_real, \u001b[38;5;28mself\u001b[39m\u001b[38;5;241m.\u001b[39mestadistica_real,\n\u001b[0;32m     33\u001b[0m        \u001b[38;5;28mself\u001b[39m\u001b[38;5;241m.\u001b[39mveracidad, \u001b[38;5;28mself\u001b[39m\u001b[38;5;241m.\u001b[39mentendible, \u001b[38;5;28mself\u001b[39m\u001b[38;5;241m.\u001b[39mprfundidad,\n\u001b[0;32m     34\u001b[0m        \u001b[38;5;28mself\u001b[39m\u001b[38;5;241m.\u001b[39mCEFIM, \u001b[38;5;28mself\u001b[39m\u001b[38;5;241m.\u001b[39mcoherencia, \u001b[38;5;28mself\u001b[39m\u001b[38;5;241m.\u001b[39mdato_falso)\n",
      "Cell \u001b[1;32mIn[14], line 57\u001b[0m, in \u001b[0;36mevaluar_respuestas.guardar_datos\u001b[1;34m(self)\u001b[0m\n\u001b[0;32m     39\u001b[0m pregunta \u001b[38;5;241m=\u001b[39m df2\u001b[38;5;241m.\u001b[39miloc[\u001b[38;5;28mself\u001b[39m\u001b[38;5;241m.\u001b[39mnumero\u001b[38;5;241m-\u001b[39m\u001b[38;5;241m1\u001b[39m]\n\u001b[0;32m     41\u001b[0m datos \u001b[38;5;241m=\u001b[39m (\n\u001b[0;32m     42\u001b[0m     \u001b[38;5;28mself\u001b[39m\u001b[38;5;241m.\u001b[39mnumero,\n\u001b[0;32m     43\u001b[0m     pregunta[\u001b[38;5;124m'\u001b[39m\u001b[38;5;124mintencion\u001b[39m\u001b[38;5;124m'\u001b[39m],\n\u001b[1;32m   (...)\u001b[0m\n\u001b[0;32m     55\u001b[0m     \u001b[38;5;28mself\u001b[39m\u001b[38;5;241m.\u001b[39mcomentario\n\u001b[0;32m     56\u001b[0m )\n\u001b[1;32m---> 57\u001b[0m cursor\u001b[38;5;241m.\u001b[39mexecute(\u001b[38;5;124m\"\"\"\u001b[39m\n\u001b[0;32m     58\u001b[0m \u001b[38;5;124m               INSERT INTO evaluaciones (id, intencion_pred, periodo_pred, estadistica_pred, intencion_real, periodo_real, estadistica_real, veracidad, entendible, profundidad, CEFIM, coherencia, dato_falso, comentarios)\u001b[39m\n\u001b[0;32m     59\u001b[0m \u001b[38;5;124m               VALUES (?, ?, ?, ?, ?,?,?,?,?,?,?,?,?,?)\u001b[39m\n\u001b[0;32m     60\u001b[0m \u001b[38;5;124m               \u001b[39m\n\u001b[0;32m     61\u001b[0m \u001b[38;5;124m               \u001b[39m\u001b[38;5;124m\"\"\"\u001b[39m,datos)\n\u001b[0;32m     62\u001b[0m conn\u001b[38;5;241m.\u001b[39mcommit()\n\u001b[0;32m     63\u001b[0m conn\u001b[38;5;241m.\u001b[39mclose()\n",
      "\u001b[1;31mOperationalError\u001b[0m: database is locked"
     ]
    }
   ],
   "source": [
    "preg = evaluar_respuestas(1)\n",
    "preg.evaluar()"
   ]
  },
  {
   "cell_type": "code",
   "execution_count": 18,
   "id": "d41dc375",
   "metadata": {},
   "outputs": [],
   "source": [
    "preg.guardar_datos()"
   ]
  },
  {
   "cell_type": "code",
   "execution_count": 9,
   "id": "c7b92b82",
   "metadata": {},
   "outputs": [
    {
     "data": {
      "text/markdown": [
       "¿Por qué se destinan casi 100 mil millones de pesos al Fondo Compensador del Transporte en el presupuesto 2024, si el servicio sigue siendo deficiente según los usuarios?"
      ],
      "text/plain": [
       "<IPython.core.display.Markdown object>"
      ]
     },
     "metadata": {},
     "output_type": "display_data"
    },
    {
     "name": "stdout",
     "output_type": "stream",
     "text": [
      "Ultimo variacion\n"
     ]
    },
    {
     "data": {
      "text/markdown": [
       "Aquí hay un análisis sobre el Fondo Compensador del Transporte en el presupuesto 2024, basado en los datos proporcionados y la perspectiva del CEFIM:\n",
       "\n",
       "La asignación de casi 100 mil millones de pesos al Fondo Compensador del Transporte en el presupuesto 2024, a pesar de las quejas de los usuarios sobre la calidad del servicio, puede parecer contradictoria a primera vista. Sin embargo, según el CEFIM, es necesario considerar varios factores económicos y políticos.\n",
       "\n",
       "Según el último informe de CEFIM, la disminución general de los recursos de origen nacional en un -12.61 % en 2024, en comparación con una caída más moderada de los recursos de origen provincial (-10.54%) podría ejercer presión sobre el presupuesto provincial, haciendo que el Fondo Compensador sea crucial para mantener el servicio de transporte. En particular, la fuerte caída proyectada en la Ley 25.053 Fdo. Nac. de Incentivo Docente (-93.25%) podría estar influyendo en esta necesidad.\n",
       "\n",
       "Además, la caída significativa en los ingresos brutos (-9.37%) en 2024, que son un indicador clave de la actividad económica provincial, sugiere que el Fondo Compensador podría ser una herramienta para estimular la demanda y mantener la movilidad, especialmente para los ciudadanos de bajos ingresos.  El CEFIM ha notado previamente que los años de declive económico a menudo requieren una mayor intervención estatal para garantizar servicios esenciales.\n",
       "\n",
       "En última instancia, la decisión de asignar una cantidad considerable de fondos al Fondo Compensador, a pesar de las deficiencias del servicio, es probablemente un reflejo de las complejas prioridades políticas y económicas que dan forma al presupuesto provincial. El CEFIM continuará monitoreando la efectividad de estos fondos y su impacto en la calidad del servicio de transporte.\n"
      ],
      "text/plain": [
       "<IPython.core.display.Markdown object>"
      ]
     },
     "metadata": {},
     "output_type": "display_data"
    }
   ],
   "source": [
    "mostrar_pregunta(74)"
   ]
  },
  {
   "cell_type": "code",
   "execution_count": 10,
   "id": "f9845fcb",
   "metadata": {},
   "outputs": [
    {
     "data": {
      "text/markdown": [
       "En el gráfico de barras, ¿se podría mostrar la dispersión de los datos de los últimos 8 años para entender qué tan volátil ha sido la recaudación?"
      ],
      "text/plain": [
       "<IPython.core.display.Markdown object>"
      ]
     },
     "metadata": {},
     "output_type": "display_data"
    },
    {
     "name": "stdout",
     "output_type": "stream",
     "text": [
      "Histórico evolución\n"
     ]
    },
    {
     "data": {
      "text/markdown": [
       "Claro, aquí tienes un análisis sobre la dispersión de los datos de recaudación en los últimos 8 años, utilizando los datos proporcionados y el contexto del CEFIM:\n",
       "\n",
       "Para evaluar la volatilidad de la recaudación en los últimos 8 años, podemos analizar la dispersión de los recursos corrientes tanto de origen provincial como nacional. Utilizando los datos anuales desde 2017 hasta 2024, observamos las siguientes tendencias:\n",
       "\n",
       "- **Recursos de Origen Provincial:** Estos recursos, reflejo de la economía provincial, muestran cierta estabilidad en comparación con los recursos de origen nacional. Sin embargo, se aprecia una leve disminución en los últimos años, lo que podría indicar una desaceleración en la actividad económica provincial.\n",
       "\n",
       "- **Recursos de Origen Nacional:** Principalmente compuestos por la coparticipación federal, estos recursos están sujetos a las políticas económicas nacionales. La dispersión en estos datos puede ser mayor debido a factores externos y decisiones gubernamentales a nivel nacional.\n",
       "\n",
       "Para medir la dispersión, se podrían calcular estadísticas como la desviación estándar o el rango intercuartílico para cada tipo de recurso. Sin embargo, con los datos proporcionados, podemos inferir que los recursos provinciales tienden a ser menos volátiles, ya que están más directamente relacionados con la actividad económica local, mientras que los recursos nacionales pueden fluctuar más debido a factores externos.\n",
       "\n",
       "Según el CEFIM, es crucial monitorear ambas fuentes de ingresos para entender la salud financiera de la provincia y su capacidad para afrontar los gastos presupuestarios.\n"
      ],
      "text/plain": [
       "<IPython.core.display.Markdown object>"
      ]
     },
     "metadata": {},
     "output_type": "display_data"
    }
   ],
   "source": [
    "mostrar_pregunta(34)"
   ]
  },
  {
   "cell_type": "code",
   "execution_count": 13,
   "id": "50c883ce",
   "metadata": {},
   "outputs": [
    {
     "data": {
      "text/markdown": [
       "¿Se podría hacer un gráfico de torta que muestre la composición actual de los recursos de origen provincial?"
      ],
      "text/plain": [
       "<IPython.core.display.Markdown object>"
      ]
     },
     "metadata": {},
     "output_type": "display_data"
    },
    {
     "name": "stdout",
     "output_type": "stream",
     "text": [
      "Ultimo rec_actual\n"
     ]
    },
    {
     "data": {
      "text/markdown": [
       "Claro, puedo ayudarte con eso.\n",
       "\n",
       "**Análisis de la Composición de Recursos de Origen Provincial**\n",
       "\n",
       "Según los datos más recientes disponibles (detapart), los recursos de origen provincial se componen principalmente de ingresos tributarios y no tributarios. Dentro de los tributarios, el impuesto a los Ingresos Brutos representa la mayor parte con $83,946.27, seguido por Automotor ($19,703.11), Inmobiliario ($8,276.48), y Sellos y Tasas de Justicia ($10,262.48). Los ingresos no tributarios están liderados por Regalías ($14,199.26) y Tasas Retributivas de Servicios ($5,698.96).\n",
       "\n",
       "Para representar gráficamente esta composición, un gráfico de torta sería adecuado para visualizar la proporción de cada componente dentro del total de recursos de origen provincial, tal como fue solicitado. En este caso la porción más grande del gráfico correspondería al impuesto sobre los ingresos brutos.\n",
       "\n",
       "Es importante recordar, como indica el CEFIM, que los recursos de origen provincial, en su mayoría, provienen del impuesto a los ingresos brutos, lo que refleja el comportamiento de la economía provincial en el periodo analizado.\n"
      ],
      "text/plain": [
       "<IPython.core.display.Markdown object>"
      ]
     },
     "metadata": {},
     "output_type": "display_data"
    }
   ],
   "source": [
    "mostrar_pregunta(54)"
   ]
  },
  {
   "cell_type": "code",
   "execution_count": 14,
   "id": "3f39dd71",
   "metadata": {},
   "outputs": [
    {
     "data": {
      "text/markdown": [
       "¿Cuál es el plan del gobierno para mejorar la calidad del transporte público, más allá de aumentar los subsidios?"
      ],
      "text/plain": [
       "<IPython.core.display.Markdown object>"
      ]
     },
     "metadata": {},
     "output_type": "display_data"
    },
    {
     "name": "stdout",
     "output_type": "stream",
     "text": [
      "Histórico rec_actual\n"
     ]
    },
    {
     "data": {
      "text/markdown": [
       "De acuerdo con el análisis del CEFIM, más allá de los subsidios, no se pueden identificar planes concretos del gobierno para mejorar la calidad del transporte público con la información disponible. Los datos proporcionados se centran en los recursos corrientes de la provincia, tanto de origen provincial como nacional, así como en las erogaciones corrientes. Estos datos son útiles para evaluar la salud financiera general y la actividad económica, pero no ofrecen detalles sobre políticas específicas de inversión o mejora en el sector del transporte público.\n",
       "\n",
       "El análisis de los recursos muestra que los ingresos brutos son una fuente importante de ingresos provinciales (83946.27 en el último periodo), y la coparticipación federal es fundamental para los recursos de origen nacional (142017.71 en el último periodo). Sin embargo, estos datos no especifican cómo se asignan estos fondos a diferentes sectores, incluido el transporte público. Para obtener información sobre los planes del gobierno en este ámbito, sería necesario acceder a datos presupuestarios detallados y a documentos de planificación sectorial específicos.\n"
      ],
      "text/plain": [
       "<IPython.core.display.Markdown object>"
      ]
     },
     "metadata": {},
     "output_type": "display_data"
    }
   ],
   "source": [
    "mostrar_pregunta(107)"
   ]
  },
  {
   "cell_type": "code",
   "execution_count": null,
   "id": "bb271ada",
   "metadata": {},
   "outputs": [],
   "source": []
  }
 ],
 "metadata": {
  "kernelspec": {
   "display_name": "base",
   "language": "python",
   "name": "python3"
  },
  "language_info": {
   "codemirror_mode": {
    "name": "ipython",
    "version": 3
   },
   "file_extension": ".py",
   "mimetype": "text/x-python",
   "name": "python",
   "nbconvert_exporter": "python",
   "pygments_lexer": "ipython3",
   "version": "3.12.7"
  }
 },
 "nbformat": 4,
 "nbformat_minor": 5
}
